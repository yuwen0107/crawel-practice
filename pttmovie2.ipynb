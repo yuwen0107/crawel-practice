{
 "cells": [
  {
   "cell_type": "code",
   "execution_count": 3,
   "metadata": {},
   "outputs": [
    {
     "name": "stdout",
     "output_type": "stream",
     "text": [
      "-----\n",
      "[討論] 回味全面啟動IMAX，又發現一個點\n",
      "https://www.ptt.cc/bbs/movie/M.1597404610.A.A75.html\n",
      "-----\n",
      "[新聞] 李康生引來泰國最凶邪靈 鍾馗對決鬼師父\n",
      "https://www.ptt.cc/bbs/movie/M.1597406517.A.07E.html\n",
      "-----\n",
      "[片單] 00年左右的日本鬼片推薦\n",
      "https://www.ptt.cc/bbs/movie/M.1597407681.A.509.html\n",
      "-----\n",
      "[好雷] 新幹線變形機器人\n",
      "https://www.ptt.cc/bbs/movie/M.1597413897.A.846.html\n",
      "-----\n",
      "[新聞] 破紀錄！魏德聖《台灣三部曲》8天集資2000萬 網淚推：驕傲向\n",
      "https://www.ptt.cc/bbs/movie/M.1597414875.A.BF5.html\n",
      "-----\n",
      "[普雷]逃出立法院\n",
      "https://www.ptt.cc/bbs/movie/M.1597416307.A.32E.html\n",
      "-----\n",
      "[新聞] 怪胎6天全台票房破千萬女神田馥甄獻聲高歌\n",
      "https://www.ptt.cc/bbs/movie/M.1597417632.A.563.html\n",
      "-----\n",
      "[ 負雷] 怪胎\n",
      "https://www.ptt.cc/bbs/movie/M.1597421005.A.1E3.html\n",
      "-----\n",
      "[好雷] 怪胎\n",
      "https://www.ptt.cc/bbs/movie/M.1597421097.A.8A0.html\n",
      "-----\n",
      "[情報] 狄尼洛《教會》台灣 9/11 將重映\n",
      "https://www.ptt.cc/bbs/movie/M.1597423024.A.6FA.html\n",
      "-----\n",
      "[討論]「怪胎」- 愛情裡的強迫症人格\n",
      "https://www.ptt.cc/bbs/movie/M.1597424232.A.806.html\n",
      "-----\n",
      "[討論]怪胎看完女友跟我分手了?\n",
      "https://www.ptt.cc/bbs/movie/M.1597428137.A.A8D.html\n",
      "-----\n",
      "[新聞] 「天劍局」早存在？《復3》道具意外彩蛋\n",
      "https://www.ptt.cc/bbs/movie/M.1597430344.A.7C6.html\n",
      "-----\n",
      "[問片] 有印象的前奏卻想不起的片名\n",
      "https://www.ptt.cc/bbs/movie/M.1597432049.A.60F.html\n",
      "-----\n",
      "[普雷] 天劫倒數，記憶點有點薄弱\n",
      "https://www.ptt.cc/bbs/movie/M.1597438594.A.F48.html\n",
      "-----\n",
      "[好雷] 家靈 Relic\n",
      "https://www.ptt.cc/bbs/movie/M.1597440488.A.EE1.html\n",
      "-----\n",
      "[好雷] 壁花男孩\n",
      "https://www.ptt.cc/bbs/movie/M.1597447969.A.A03.html\n",
      "-----\n",
      "[贈票] 8/15 逃出立法院-信義威秀\n",
      "https://www.ptt.cc/bbs/movie/M.1597449715.A.B68.html\n"
     ]
    }
   ],
   "source": [
    "import requests\n",
    "from bs4 import BeautifulSoup\n",
    "\n",
    "url = 'https://www.ptt.cc/bbs/movie/index9128.html'\n",
    "\n",
    "headers = {'user-agent': 'Mozilla/5.0 (Windows NT 6.1; Win64; x64) AppleWebKit/537.36 (KHTML, like Gecko) Chrome/84.0.4147.105 Safari/537.36'}\n",
    "\n",
    "res = requests.get(url,headers=headers)\n",
    "\n",
    "soup = BeautifulSoup(res.text,'html.parser')\n",
    "\n",
    "#print(soup.prettify())\n",
    "\n",
    "#我要找標籤結構,裡面的a標籤\n",
    "title = soup.select('div[class=\"title\"] a') #修改的地方\n",
    "#print(title)\n",
    "\n",
    "for t in title:\n",
    "    print('-----')\n",
    "    try:\n",
    "        article_title = t.text\n",
    "        article_url = 'https://www.ptt.cc' + t['href']\n",
    "        print(article_title)\n",
    "        print(article_url)\n",
    "    except:\n",
    "        print(t)"
   ]
  },
  {
   "cell_type": "code",
   "execution_count": null,
   "metadata": {},
   "outputs": [],
   "source": []
  }
 ],
 "metadata": {
  "kernelspec": {
   "display_name": "Python 3",
   "language": "python",
   "name": "python3"
  },
  "language_info": {
   "codemirror_mode": {
    "name": "ipython",
    "version": 3
   },
   "file_extension": ".py",
   "mimetype": "text/x-python",
   "name": "python",
   "nbconvert_exporter": "python",
   "pygments_lexer": "ipython3",
   "version": "3.8.1"
  }
 },
 "nbformat": 4,
 "nbformat_minor": 4
}
