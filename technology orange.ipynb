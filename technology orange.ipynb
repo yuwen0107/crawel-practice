{
 "cells": [
  {
   "cell_type": "code",
   "execution_count": 59,
   "metadata": {},
   "outputs": [
    {
     "name": "stdout",
     "output_type": "stream",
     "text": [
      "【Excel 越改越難用？】科學家改不了 Excel 格式，只好重新命名 27 種人類基因\n",
      "https://buzzorange.com/techorange/2020/08/13/27-genes-renamed-because-of-excel/\n",
      "\n",
      "【Ctrl+C 不能再用了？】Google 推 50+ 教育新功能，可對照學生作業、抓包抄襲\n",
      "https://buzzorange.com/techorange/2020/08/13/the-anywhere-school-50-google-for-education-updates/\n",
      "\n",
      "想跳過 5G 直接發展 6G 有可能嗎？專家：就像不打地基，直接蓋大樓\n",
      "https://buzzorange.com/techorange/2020/08/13/skip-5g-develop-6g-impossible/\n",
      "\n",
      "【例行工作就交給機器人吧！】RPA 解放員工近半工作量，無痛導入秘訣大公開\n",
      "https://buzzorange.com/techorange/2020/08/13/systalk-rpa-help-you-do-routine-work/\n",
      "\n",
      "【全球最大地震偵測網！】Google 將串連數百萬台 Android 手機，發出即時地震警報\n",
      "https://buzzorange.com/techorange/2020/08/13/android-earthquake-sensor/\n",
      "\n",
      "【供應鏈「綠」起來】蘋果計畫 2030 年達到碳中和，台積電、鴻海也得跟著做！\n",
      "https://buzzorange.com/techorange/2020/08/13/apple-green-supply-chain/\n",
      "\n",
      "堅韌度比木材強 15 倍！霧面透光、抗紫外線還能隔熱的「類玻璃」登上《自然通訊》期刊\n",
      "https://buzzorange.com/techorange/2020/08/13/aesthetic-transparent-wood/\n",
      "\n",
      "【資本策略】繼蘋果之後，為什麼特斯拉也要分拆股票？\n",
      "https://buzzorange.com/techorange/2020/08/12/tesla-stock-spilt/\n",
      "\n"
     ]
    }
   ],
   "source": [
    "import requests\n",
    "from bs4 import BeautifulSoup\n",
    "import json\n",
    "import pprint\n",
    "\n",
    "headers = {'user-agent': 'Mozilla/5.0 (Windows NT 6.1; Win64; x64) AppleWebKit/537.36 (KHTML, like Gecko) Chrome/84.0.4147.125 Safari/537.36'}\n",
    "url = 'https://buzzorange.com/techorange/wp-admin/admin-ajax.php'\n",
    "\n",
    "\n",
    "#把formdata取下來,之後變成requests\n",
    "data_str = '''action: fm_ajax_load_more\n",
    "nonce: 14ed8baa1d\n",
    "page: 3'''\n",
    "\n",
    "\n",
    "#透過生層式,取出裡面的data_str\n",
    "#i.split(': ')[0] 取出key   : i.split(': ')[1] 取出value\n",
    "#取得了post data\n",
    "data = {i.split(': ')[0]: i.split(': ')[1] for i in data_str.split('\\n')}\n",
    "#print(data)\n",
    "\n",
    "res = requests.post(url,headers=headers,data=data)\n",
    "#print(res.text)\n",
    "\n",
    "jdata = json.loads(res.text)\n",
    "#print(jdata)\n",
    "#pprint.pprint(jdata)\n",
    "\n",
    "#get html string\n",
    "html = jdata['data']\n",
    "\n",
    "#改成beautifulSoup\n",
    "soup = BeautifulSoup(html,'html.parser')\n",
    "#print(soup.prettify())\n",
    "\n",
    "title = soup.select('h4[class=\"entry-title\"] a')\n",
    "#print(title)\n",
    "for t in title:\n",
    "\n",
    "    article_title = t.text\n",
    "    article_url = t['href']\n",
    "    print(article_title)\n",
    "    print(article_url)\n",
    "    print()\n"
   ]
  },
  {
   "cell_type": "code",
   "execution_count": null,
   "metadata": {},
   "outputs": [],
   "source": []
  },
  {
   "cell_type": "code",
   "execution_count": null,
   "metadata": {},
   "outputs": [],
   "source": []
  }
 ],
 "metadata": {
  "kernelspec": {
   "display_name": "Python 3",
   "language": "python",
   "name": "python3"
  },
  "language_info": {
   "codemirror_mode": {
    "name": "ipython",
    "version": 3
   },
   "file_extension": ".py",
   "mimetype": "text/x-python",
   "name": "python",
   "nbconvert_exporter": "python",
   "pygments_lexer": "ipython3",
   "version": "3.8.1"
  }
 },
 "nbformat": 4,
 "nbformat_minor": 4
}
