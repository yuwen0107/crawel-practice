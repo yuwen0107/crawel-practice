{
 "cells": [
  {
   "cell_type": "code",
   "execution_count": 1,
   "metadata": {},
   "outputs": [
    {
     "name": "stdout",
     "output_type": "stream",
     "text": [
      "[<a href=\"/bbs/\" id=\"logo\">批踢踢實業坊</a>]\n"
     ]
    }
   ],
   "source": [
    "import requests\n",
    "from bs4 import BeautifulSoup\n",
    "\n",
    "url = 'https://www.ptt.cc/bbs/joke/index.html'\n",
    "\n",
    "headers = {'user-agent': 'Mozilla/5.0 (Windows NT 6.1; Win64; x64) AppleWebKit/537.36 (KHTML, like Gecko) Chrome/84.0.4147.105 Safari/537.36'}\n",
    "\n",
    "res = requests.get(url,headers=headers)\n",
    "\n",
    "#使用beautifulSoup轉換html的型別\n",
    "soup = BeautifulSoup(res.text,'html.parser')\n",
    "\n",
    "#把最上面的批踢踢實業訪取出來\n",
    "title = soup.findAll('a',{'id':'logo'})\n",
    "#title = soup.findAll('a',id = 'logo')\n",
    "print(title)"
   ]
  },
  {
   "cell_type": "code",
   "execution_count": 2,
   "metadata": {},
   "outputs": [
    {
     "name": "stdout",
     "output_type": "stream",
     "text": [
      "<a href=\"/bbs/\" id=\"logo\">批踢踢實業坊</a>\n"
     ]
    }
   ],
   "source": [
    "print(title[0])\n",
    "#這個東西的型別是beautifulSoup"
   ]
  },
  {
   "cell_type": "code",
   "execution_count": 3,
   "metadata": {},
   "outputs": [
    {
     "name": "stdout",
     "output_type": "stream",
     "text": [
      "批踢踢實業坊\n"
     ]
    }
   ],
   "source": [
    "print(title[0].text)"
   ]
  },
  {
   "cell_type": "code",
   "execution_count": 4,
   "metadata": {},
   "outputs": [
    {
     "name": "stdout",
     "output_type": "stream",
     "text": [
      "/bbs/\n",
      "https://www.ptt.cc//bbs/\n"
     ]
    }
   ],
   "source": [
    "#取網址\n",
    "print(title[0]['href'])\n",
    "print('https://www.ptt.cc/'+title[0]['href'])"
   ]
  },
  {
   "cell_type": "code",
   "execution_count": 6,
   "metadata": {},
   "outputs": [
    {
     "name": "stdout",
     "output_type": "stream",
     "text": [
      "[<a class=\"board\" href=\"/bbs/joke/index.html\"><span class=\"board-label\">看板 </span>joke</a>]\n"
     ]
    }
   ],
   "source": [
    "test = soup.findAll('a', class_='board')\n",
    "print(test)"
   ]
  },
  {
   "cell_type": "code",
   "execution_count": 7,
   "metadata": {},
   "outputs": [
    {
     "name": "stdout",
     "output_type": "stream",
     "text": [
      "[<div class=\"bbs-content\" id=\"topbar\">\n",
      "<a href=\"/bbs/\" id=\"logo\">批踢踢實業坊</a>\n",
      "<span>›</span>\n",
      "<a class=\"board\" href=\"/bbs/joke/index.html\"><span class=\"board-label\">看板 </span>joke</a>\n",
      "<a class=\"right small\" href=\"/about.html\">關於我們</a>\n",
      "<a class=\"right small\" href=\"/contact.html\">聯絡資訊</a>\n",
      "</div>]\n"
     ]
    }
   ],
   "source": [
    "test2 = soup.findAll('div',id='topbar')\n",
    "print(test2)"
   ]
  },
  {
   "cell_type": "code",
   "execution_count": null,
   "metadata": {},
   "outputs": [],
   "source": []
  }
 ],
 "metadata": {
  "kernelspec": {
   "display_name": "Python 3",
   "language": "python",
   "name": "python3"
  },
  "language_info": {
   "codemirror_mode": {
    "name": "ipython",
    "version": 3
   },
   "file_extension": ".py",
   "mimetype": "text/x-python",
   "name": "python",
   "nbconvert_exporter": "python",
   "pygments_lexer": "ipython3",
   "version": "3.8.1"
  }
 },
 "nbformat": 4,
 "nbformat_minor": 4
}
